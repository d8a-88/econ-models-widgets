{
 "cells": [
  {
   "cell_type": "raw",
   "metadata": {},
   "source": [
    "<script type=\"text/javascript\" src=\"https://ajax.googleapis.com/ajax/libs/jquery/3.4.1/jquery.min.js\"></script>\n",
    "\n",
    "\n",
    "\n",
    "<script type=\"text/javascript\">\n",
    "      function getAllUrlParams(url) {\n",
    "\n",
    "      // get query string from url (optional) or window\n",
    "      var queryString = url ? url.split('?')[1] : window.location.search.slice(1);\n",
    "\n",
    "      // we'll store the parameters here\n",
    "      var obj = {};\n",
    "\n",
    "      // if query string exists\n",
    "      if (queryString) {\n",
    "\n",
    "        // stuff after # is not part of query string, so get rid of it\n",
    "        queryString = queryString.split('#')[0];\n",
    "\n",
    "        // split our query string into its component parts\n",
    "        var arr = queryString.split('&');\n",
    "\n",
    "        for (var i = 0; i < arr.length; i++) {\n",
    "          // separate the keys and the values\n",
    "          var a = arr[i].split('=');\n",
    "\n",
    "          // set parameter name and value (use 'true' if empty)\n",
    "          var paramName = a[0];\n",
    "          var paramValue = typeof (a[1]) === 'undefined' ? true : a[1];\n",
    "\n",
    "          // (optional) keep case consistent\n",
    "          paramName = paramName.toLowerCase();\n",
    "          if (typeof paramValue === 'string') paramValue = paramValue.toLowerCase();\n",
    "\n",
    "          // if the paramName ends with square brackets, e.g. colors[] or colors[2]\n",
    "          if (paramName.match(/\\[(\\d+)?\\]$/)) {\n",
    "\n",
    "            // create key if it doesn't exist\n",
    "            var key = paramName.replace(/\\[(\\d+)?\\]/, '');\n",
    "            if (!obj[key]) obj[key] = [];\n",
    "\n",
    "            // if it's an indexed array e.g. colors[2]\n",
    "            if (paramName.match(/\\[\\d+\\]$/)) {\n",
    "              // get the index value and add the entry at the appropriate position\n",
    "              var index = /\\[(\\d+)\\]/.exec(paramName)[1];\n",
    "              obj[key][index] = paramValue;\n",
    "            } else {\n",
    "              // otherwise add the value to the end of the array\n",
    "              obj[key].push(paramValue);\n",
    "            }\n",
    "          } else {\n",
    "            // we're dealing with a string\n",
    "            if (!obj[paramName]) {\n",
    "              // if it doesn't exist, create property\n",
    "              obj[paramName] = paramValue;\n",
    "            } else if (obj[paramName] && typeof obj[paramName] === 'string'){\n",
    "              // if property does exist and it's a string, convert it to an array\n",
    "              obj[paramName] = [obj[paramName]];\n",
    "              obj[paramName].push(paramValue);\n",
    "            } else {\n",
    "              // otherwise add the property\n",
    "              obj[paramName].push(paramValue);\n",
    "            }\n",
    "          }\n",
    "        }\n",
    "      }\n",
    "\n",
    "      return obj;\n",
    "    }\n",
    "    \n",
    "    function showOnlyID(widgetID) {\n",
    "        $(\"*\").not($('#' + widgetID + ' *').parents()).hide();\n",
    "        $('#' + widgetID + ' *').children().show();\n",
    "        $(\"script\").hide()\n",
    "    }\n",
    "    \n",
    "    $(document).ready(function() {\n",
    "        var widgetID = getAllUrlParams().id;\n",
    "        if (!(widgetID === undefined)) {\n",
    "            console.log(\"showing only \" + widgetID);\n",
    "            showOnlyID(widgetID);\n",
    "        }\n",
    "    });\n",
    "    \n",
    "    /** window.addEventListener(\"load\", function() {\n",
    "        setTimeout(function() {\n",
    "            \n",
    "        },1000);\n",
    "    }, false); */\n",
    "    \n",
    "</script>"
   ]
  },
  {
   "cell_type": "markdown",
   "metadata": {},
   "source": [
    "# Lab 2 Widgets"
   ]
  },
  {
   "cell_type": "code",
   "execution_count": 1,
   "metadata": {
    "tags": [
     "hide_input"
    ]
   },
   "outputs": [],
   "source": [
    "# NO CODE\n",
    "from __future__ import print_function\n",
    "import datascience as ds\n",
    "import matplotlib.pyplot as plt\n",
    "%matplotlib inline\n",
    "import numpy as np\n",
    "import pandas as pd\n",
    "import utils\n",
    "plt.style.use('seaborn-muted')\n",
    "from ipywidgets import interact, interactive, fixed, interact_manual\n",
    "import ipywidgets as widgets\n",
    "from matplotlib import patches\n",
    "import csaps"
   ]
  },
  {
   "cell_type": "code",
   "execution_count": 2,
   "metadata": {},
   "outputs": [],
   "source": [
    "individual_firm_costs = ds.Table.read_table('individual_firm_costs.csv')"
   ]
  },
  {
   "cell_type": "code",
   "execution_count": 3,
   "metadata": {},
   "outputs": [],
   "source": [
    "total_cost = individual_firm_costs.column(\"Total Fixed Cost\") + individual_firm_costs.column(\"Total Variable Cost\")"
   ]
  },
  {
   "cell_type": "code",
   "execution_count": 4,
   "metadata": {},
   "outputs": [],
   "source": [
    "# adding the array to the table\n",
    "individual_firm_costs = individual_firm_costs.with_column(\"Total Cost\", total_cost)"
   ]
  },
  {
   "cell_type": "code",
   "execution_count": 5,
   "metadata": {},
   "outputs": [],
   "source": [
    "individual_firm_costs_no_first = individual_firm_costs.take(np.arange(1, individual_firm_costs.num_rows))\n",
    "average_fixed_cost = individual_firm_costs_no_first.column(\"Total Fixed Cost\") / individual_firm_costs_no_first.column(\"Output\")\n",
    "average_fixed_cost = np.append(ds.make_array(0), average_fixed_cost)"
   ]
  },
  {
   "cell_type": "code",
   "execution_count": 6,
   "metadata": {},
   "outputs": [],
   "source": [
    "individual_firm_costs = individual_firm_costs.with_column(\"Average Fixed Cost\", average_fixed_cost)"
   ]
  },
  {
   "cell_type": "code",
   "execution_count": 7,
   "metadata": {},
   "outputs": [],
   "source": [
    "average_variable_cost = individual_firm_costs_no_first.column(\"Total Variable Cost\")/individual_firm_costs_no_first.column(\"Output\")\n",
    "average_variable_cost = np.append(ds.make_array(0), average_variable_cost)"
   ]
  },
  {
   "cell_type": "code",
   "execution_count": 8,
   "metadata": {},
   "outputs": [],
   "source": [
    "individual_firm_costs = individual_firm_costs.with_column(\"Average Variable Cost\", average_variable_cost)"
   ]
  },
  {
   "cell_type": "code",
   "execution_count": 9,
   "metadata": {},
   "outputs": [],
   "source": [
    "average_total_cost = individual_firm_costs_no_first.column(\"Total Cost\")/individual_firm_costs_no_first.column(\"Output\")\n",
    "average_total_cost = np.append(ds.make_array(0), average_total_cost)"
   ]
  },
  {
   "cell_type": "code",
   "execution_count": 10,
   "metadata": {},
   "outputs": [],
   "source": [
    "individual_firm_costs = individual_firm_costs.with_column(\"Average Total Cost\", average_total_cost)"
   ]
  },
  {
   "cell_type": "code",
   "execution_count": 11,
   "metadata": {},
   "outputs": [],
   "source": [
    "marginal_cost = np.diff(total_cost)\n",
    "marginal_cost = np.append(ds.make_array(0), marginal_cost)"
   ]
  },
  {
   "cell_type": "code",
   "execution_count": 12,
   "metadata": {},
   "outputs": [],
   "source": [
    "individual_firm_costs = individual_firm_costs.with_column(\"Marginal Cost\", marginal_cost)"
   ]
  },
  {
   "cell_type": "markdown",
   "metadata": {},
   "source": [
    "## Lab 2 Widget 1"
   ]
  },
  {
   "cell_type": "raw",
   "metadata": {},
   "source": [
    "<div id=\"lab02-wgt01\">"
   ]
  },
  {
   "cell_type": "code",
   "execution_count": 13,
   "metadata": {
    "tags": [
     "interactive"
    ]
   },
   "outputs": [
    {
     "data": {
      "application/vnd.jupyter.widget-view+json": {
       "model_id": "d36df5a5719148c4a23453ab1f1091eb",
       "version_major": 2,
       "version_minor": 0
      },
      "text/plain": [
       "interactive(children=(IntSlider(value=25, description='price', max=60, min=20), Output()), _dom_classes=('widg…"
      ]
     },
     "metadata": {},
     "output_type": "display_data"
    }
   ],
   "source": [
    "interact(lambda price: utils.firm_behaviour(price, individual_firm_costs), price=widgets.IntSlider(min=20,max=60,step=1,value=25));"
   ]
  },
  {
   "cell_type": "raw",
   "metadata": {},
   "source": [
    "</div>"
   ]
  },
  {
   "cell_type": "code",
   "execution_count": 14,
   "metadata": {
    "tags": [
     "hide_input"
    ]
   },
   "outputs": [],
   "source": [
    "# NO CODE\n",
    "ESG_table = ds.Table.read_table('ESGPorfolios_forcsv.csv').select(\n",
    "    \"Group\", \"Group_num\", \"UNIT NAME\", \"Capacity_MW\", \"Total_Var_Cost_USDperMWH\").sort(\n",
    "    \"Total_Var_Cost_USDperMWH\", descending = False).relabel(4, \"Average Variable Cost\")"
   ]
  },
  {
   "cell_type": "code",
   "execution_count": 15,
   "metadata": {},
   "outputs": [],
   "source": [
    "selection = 'Big Coal'\n",
    "Group = ESG_table.where(\"Group\", selection)"
   ]
  },
  {
   "cell_type": "markdown",
   "metadata": {},
   "source": [
    "## Lab 2 Widget 2"
   ]
  },
  {
   "cell_type": "raw",
   "metadata": {},
   "source": [
    "<div id=\"lab02-wgt02\">"
   ]
  },
  {
   "cell_type": "code",
   "execution_count": 16,
   "metadata": {
    "tags": [
     "interactive"
    ]
   },
   "outputs": [
    {
     "data": {
      "application/vnd.jupyter.widget-view+json": {
       "model_id": "0d7fd7ac2bd24066b6d207efa6042012",
       "version_major": 2,
       "version_minor": 0
      },
      "text/plain": [
       "interactive(children=(IntSlider(value=37, description='price', max=80, min=20), Output()), _dom_classes=('widg…"
      ]
     },
     "metadata": {},
     "output_type": "display_data"
    }
   ],
   "source": [
    "interact(utils.group_plot, price=widgets.IntSlider(min=20,max=80,step=1,value=37));"
   ]
  },
  {
   "cell_type": "raw",
   "metadata": {},
   "source": [
    "</div>"
   ]
  },
  {
   "cell_type": "markdown",
   "metadata": {},
   "source": [
    "## Lab 2 Widget 3"
   ]
  },
  {
   "cell_type": "raw",
   "metadata": {},
   "source": [
    "<div id=\"lab02-wgt03\">"
   ]
  },
  {
   "cell_type": "code",
   "execution_count": 17,
   "metadata": {
    "tags": [
     "interactive"
    ]
   },
   "outputs": [
    {
     "data": {
      "application/vnd.jupyter.widget-view+json": {
       "model_id": "596d663fe37041b386fdb095fd30a7be",
       "version_major": 2,
       "version_minor": 0
      },
      "text/plain": [
       "interactive(children=(IntSlider(value=37, description='price', max=90), Output()), _dom_classes=('widget-inter…"
      ]
     },
     "metadata": {},
     "output_type": "display_data"
    }
   ],
   "source": [
    "interact(utils.ESG_plot, price=widgets.IntSlider(min=0,max=90,step=1,value=37));"
   ]
  },
  {
   "cell_type": "raw",
   "metadata": {},
   "source": [
    "</div>"
   ]
  },
  {
   "cell_type": "markdown",
   "metadata": {},
   "source": [
    "## Lab 3 Widget 1"
   ]
  },
  {
   "cell_type": "code",
   "execution_count": 19,
   "metadata": {
    "tags": [
     "remove_cell"
    ]
   },
   "outputs": [],
   "source": [
    "from datascience import *\n",
    "\n",
    "import sympy\n",
    "solve = lambda x,y: sympy.solve(x-y)[0] if len(sympy.solve(x-y))==1 else \"Not Single Solution\"\n",
    "import matplotlib.pyplot as plt\n",
    "plt.style.use('seaborn-muted')\n",
    "%matplotlib inline\n",
    "\n",
    "from ipywidgets import interact, interactive, fixed, interact_manual\n",
    "import ipywidgets as widgets\n",
    "from IPython.display import display\n",
    "import numpy as np\n",
    "import pandas as pd\n",
    "\n",
    "import warnings\n",
    "warnings.filterwarnings('ignore')\n",
    "from ipywidgets import interact\n"
   ]
  },
  {
   "cell_type": "code",
   "execution_count": 29,
   "metadata": {},
   "outputs": [],
   "source": [
    "airlines = Table.read_table('airlines.csv')"
   ]
  },
  {
   "cell_type": "code",
   "execution_count": 21,
   "metadata": {},
   "outputs": [],
   "source": [
    "airlines = airlines.drop(\"Price\")\n",
    "airlinesFiltered = airlines.relabeled([\"Average Fare\", \"Average Weekly Passengers\"], [\"Price\", \"Quantity\"])"
   ]
  },
  {
   "cell_type": "markdown",
   "metadata": {},
   "source": [
    "The following cell of code is provided."
   ]
  },
  {
   "cell_type": "code",
   "execution_count": 22,
   "metadata": {},
   "outputs": [],
   "source": [
    "delta = airlines.where(\"Market Leading Airline\", \"DL\")\n",
    "delta = delta.select([\"Average Fare\", \"Average Weekly Passengers\"])\n",
    "delta = delta.relabeled([\"Average Weekly Passengers\", \"Average Fare\"], [\"Quantity\", \"Price\"])\n",
    "delta = delta.where(delta.column(\"Quantity\") < 2000)"
   ]
  },
  {
   "cell_type": "code",
   "execution_count": 23,
   "metadata": {},
   "outputs": [],
   "source": [
    "Q = sympy.Symbol(\"Q\")"
   ]
  },
  {
   "cell_type": "code",
   "execution_count": 24,
   "metadata": {},
   "outputs": [],
   "source": [
    "deltademand = -0.035 * Q + 189.1"
   ]
  },
  {
   "cell_type": "code",
   "execution_count": 25,
   "metadata": {},
   "outputs": [],
   "source": [
    "deltasupply = 0.03 * Q + 14"
   ]
  },
  {
   "cell_type": "code",
   "execution_count": 26,
   "metadata": {},
   "outputs": [],
   "source": [
    "Q_star_delta = solve(deltademand, deltasupply)"
   ]
  },
  {
   "cell_type": "code",
   "execution_count": 27,
   "metadata": {},
   "outputs": [],
   "source": [
    "supply = 0.0225 * Q + 100"
   ]
  },
  {
   "cell_type": "raw",
   "metadata": {},
   "source": [
    "<div id=\"lab03-wgt01\">"
   ]
  },
  {
   "cell_type": "code",
   "execution_count": 28,
   "metadata": {},
   "outputs": [
    {
     "data": {
      "application/vnd.jupyter.widget-view+json": {
       "model_id": "19705d87f7264f44a7c985c2fade0f51",
       "version_major": 2,
       "version_minor": 0
      },
      "text/plain": [
       "interactive(children=(IntSlider(value=-6, description='shift', max=40, min=-50, step=2), Output()), _dom_class…"
      ]
     },
     "metadata": {},
     "output_type": "display_data"
    }
   ],
   "source": [
    "def plot_equation(equation, price_start, price_end, label=None):\n",
    "    plot_prices = [price_start, price_end]\n",
    "    plot_quantities = [equation.subs(list(equation.free_symbols)[0], c) for c in plot_prices]\n",
    "    plt.plot(plot_prices, plot_quantities, label=label)\n",
    "    \n",
    "def plot_intercept(eq1, eq2):\n",
    "    ex = sympy.solve(eq1-eq2)[0]\n",
    "    why = eq1.subs(list(eq1.free_symbols)[0], ex)\n",
    "    plt.scatter([ex], [why])\n",
    "    return (ex, why)\n",
    "    \n",
    "def shift_demand():\n",
    "    equation = deltademand\n",
    "    def shift_helper(shift):\n",
    "        plot_equation(equation, 0, 10000, \"Original\")\n",
    "        plot_equation(deltasupply, 0, 10000)\n",
    "        old = plot_intercept(equation, deltasupply)\n",
    "        print('Original Intercept:', old)\n",
    "        \n",
    "        if shift != 0:\n",
    "            plot_equation(equation + shift, -10, 10000, 'Shifted')\n",
    "            new = plot_intercept(equation + shift, supply)\n",
    "            print('New intercept:', new)\n",
    "            print('Change in Price:', round(float(new[1]-old[1]), 2))\n",
    "        else:\n",
    "            print('Nothing shifted yet, use the slider to move the line!')\n",
    "        plt.xlim(0,5000)\n",
    "        plt.ylim(0,200)\n",
    "        plt.legend()\n",
    "        plt.ylabel(\"Price\")\n",
    "        plt.xlabel(\"Quantity\")\n",
    "        plt.title(\"Shift in Customer Preference Impact on Delta Ticket Sales\")\n",
    "    interact(shift_helper, shift=(-50, 40, 2))\n",
    "\n",
    "shift_demand()"
   ]
  },
  {
   "cell_type": "raw",
   "metadata": {},
   "source": [
    "</div>"
   ]
  },
  {
   "cell_type": "markdown",
   "metadata": {},
   "source": [
    " "
   ]
  }
 ],
 "metadata": {
  "@webio": {
   "lastCommId": null,
   "lastKernelId": null
  },
  "kernelspec": {
   "display_name": "Python 3",
   "language": "python",
   "name": "python3"
  },
  "language_info": {
   "codemirror_mode": {
    "name": "ipython",
    "version": 3
   },
   "file_extension": ".py",
   "mimetype": "text/x-python",
   "name": "python",
   "nbconvert_exporter": "python",
   "pygments_lexer": "ipython3",
   "version": "3.6.5"
  },
  "varInspector": {
   "cols": {
    "lenName": 16,
    "lenType": 16,
    "lenVar": 40
   },
   "kernels_config": {
    "python": {
     "delete_cmd_postfix": "",
     "delete_cmd_prefix": "del ",
     "library": "var_list.py",
     "varRefreshCmd": "print(var_dic_list())"
    },
    "r": {
     "delete_cmd_postfix": ") ",
     "delete_cmd_prefix": "rm(",
     "library": "var_list.r",
     "varRefreshCmd": "cat(var_dic_list()) "
    }
   },
   "types_to_exclude": [
    "module",
    "function",
    "builtin_function_or_method",
    "instance",
    "_Feature"
   ],
   "window_display": false
  }
 },
 "nbformat": 4,
 "nbformat_minor": 2
}
