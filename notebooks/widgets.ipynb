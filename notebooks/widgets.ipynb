{
 "cells": [
  {
   "cell_type": "raw",
   "metadata": {},
   "source": [
    "<script type=\"text/javascript\" src=\"https://ajax.googleapis.com/ajax/libs/jquery/3.4.1/jquery.min.js\"></script>\n",
    "\n",
    "\n",
    "\n",
    "<script type=\"text/javascript\">\n",
    "      function getAllUrlParams(url) {\n",
    "\n",
    "      // get query string from url (optional) or window\n",
    "      var queryString = url ? url.split('?')[1] : window.location.search.slice(1);\n",
    "\n",
    "      // we'll store the parameters here\n",
    "      var obj = {};\n",
    "\n",
    "      // if query string exists\n",
    "      if (queryString) {\n",
    "\n",
    "        // stuff after # is not part of query string, so get rid of it\n",
    "        queryString = queryString.split('#')[0];\n",
    "\n",
    "        // split our query string into its component parts\n",
    "        var arr = queryString.split('&');\n",
    "\n",
    "        for (var i = 0; i < arr.length; i++) {\n",
    "          // separate the keys and the values\n",
    "          var a = arr[i].split('=');\n",
    "\n",
    "          // set parameter name and value (use 'true' if empty)\n",
    "          var paramName = a[0];\n",
    "          var paramValue = typeof (a[1]) === 'undefined' ? true : a[1];\n",
    "\n",
    "          // (optional) keep case consistent\n",
    "          paramName = paramName.toLowerCase();\n",
    "          if (typeof paramValue === 'string') paramValue = paramValue.toLowerCase();\n",
    "\n",
    "          // if the paramName ends with square brackets, e.g. colors[] or colors[2]\n",
    "          if (paramName.match(/\\[(\\d+)?\\]$/)) {\n",
    "\n",
    "            // create key if it doesn't exist\n",
    "            var key = paramName.replace(/\\[(\\d+)?\\]/, '');\n",
    "            if (!obj[key]) obj[key] = [];\n",
    "\n",
    "            // if it's an indexed array e.g. colors[2]\n",
    "            if (paramName.match(/\\[\\d+\\]$/)) {\n",
    "              // get the index value and add the entry at the appropriate position\n",
    "              var index = /\\[(\\d+)\\]/.exec(paramName)[1];\n",
    "              obj[key][index] = paramValue;\n",
    "            } else {\n",
    "              // otherwise add the value to the end of the array\n",
    "              obj[key].push(paramValue);\n",
    "            }\n",
    "          } else {\n",
    "            // we're dealing with a string\n",
    "            if (!obj[paramName]) {\n",
    "              // if it doesn't exist, create property\n",
    "              obj[paramName] = paramValue;\n",
    "            } else if (obj[paramName] && typeof obj[paramName] === 'string'){\n",
    "              // if property does exist and it's a string, convert it to an array\n",
    "              obj[paramName] = [obj[paramName]];\n",
    "              obj[paramName].push(paramValue);\n",
    "            } else {\n",
    "              // otherwise add the property\n",
    "              obj[paramName].push(paramValue);\n",
    "            }\n",
    "          }\n",
    "        }\n",
    "      }\n",
    "\n",
    "      return obj;\n",
    "    }\n",
    "    \n",
    "    function showOnlyID(widgetID) {\n",
    "        $(\"*\").not($('#' + widgetID + ' *').parents()).hide();\n",
    "        $('#' + widgetID + ' *').children().show();\n",
    "        $(\"script\").hide()\n",
    "    }\n",
    "    \n",
    "    $(document).ready(function() {\n",
    "        var widgetID = getAllUrlParams().id;\n",
    "        if (!(widgetID === undefined)) {\n",
    "            console.log(\"showing only \" + widgetID);\n",
    "            showOnlyID(widgetID);\n",
    "        }\n",
    "    });\n",
    "    \n",
    "    /** window.addEventListener(\"load\", function() {\n",
    "        setTimeout(function() {\n",
    "            \n",
    "        },1000);\n",
    "    }, false); */\n",
    "    \n",
    "</script>"
   ]
  },
  {
   "cell_type": "markdown",
   "metadata": {},
   "source": [
    "# Lab 2 Widgets"
   ]
  },
  {
   "cell_type": "code",
   "execution_count": 1,
   "metadata": {
    "tags": [
     "hide_input"
    ]
   },
   "outputs": [],
   "source": [
    "# NO CODE\n",
    "from __future__ import print_function\n",
    "import datascience as ds\n",
    "import matplotlib.pyplot as plt\n",
    "%matplotlib inline\n",
    "import numpy as np\n",
    "import pandas as pd\n",
    "import utils\n",
    "plt.style.use('seaborn-muted')\n",
    "from ipywidgets import interact, interactive, fixed, interact_manual\n",
    "import ipywidgets as widgets\n",
    "from matplotlib import patches\n",
    "import csaps"
   ]
  },
  {
   "cell_type": "code",
   "execution_count": 2,
   "metadata": {},
   "outputs": [],
   "source": [
    "individual_firm_costs = ds.Table.read_table('individual_firm_costs.csv')"
   ]
  },
  {
   "cell_type": "code",
   "execution_count": 3,
   "metadata": {},
   "outputs": [],
   "source": [
    "total_cost = individual_firm_costs.column(\"Total Fixed Cost\") + individual_firm_costs.column(\"Total Variable Cost\")"
   ]
  },
  {
   "cell_type": "code",
   "execution_count": 4,
   "metadata": {},
   "outputs": [],
   "source": [
    "# adding the array to the table\n",
    "individual_firm_costs = individual_firm_costs.with_column(\"Total Cost\", total_cost)"
   ]
  },
  {
   "cell_type": "code",
   "execution_count": 5,
   "metadata": {},
   "outputs": [],
   "source": [
    "individual_firm_costs_no_first = individual_firm_costs.take(np.arange(1, individual_firm_costs.num_rows))\n",
    "average_fixed_cost = individual_firm_costs_no_first.column(\"Total Fixed Cost\") / individual_firm_costs_no_first.column(\"Output\")\n",
    "average_fixed_cost = np.append(ds.make_array(0), average_fixed_cost)"
   ]
  },
  {
   "cell_type": "code",
   "execution_count": 6,
   "metadata": {},
   "outputs": [],
   "source": [
    "individual_firm_costs = individual_firm_costs.with_column(\"Average Fixed Cost\", average_fixed_cost)"
   ]
  },
  {
   "cell_type": "code",
   "execution_count": 7,
   "metadata": {},
   "outputs": [],
   "source": [
    "average_variable_cost = individual_firm_costs_no_first.column(\"Total Variable Cost\")/individual_firm_costs_no_first.column(\"Output\")\n",
    "average_variable_cost = np.append(ds.make_array(0), average_variable_cost)"
   ]
  },
  {
   "cell_type": "code",
   "execution_count": 8,
   "metadata": {},
   "outputs": [],
   "source": [
    "individual_firm_costs = individual_firm_costs.with_column(\"Average Variable Cost\", average_variable_cost)"
   ]
  },
  {
   "cell_type": "code",
   "execution_count": 9,
   "metadata": {},
   "outputs": [],
   "source": [
    "average_total_cost = individual_firm_costs_no_first.column(\"Total Cost\")/individual_firm_costs_no_first.column(\"Output\")\n",
    "average_total_cost = np.append(ds.make_array(0), average_total_cost)"
   ]
  },
  {
   "cell_type": "code",
   "execution_count": 10,
   "metadata": {},
   "outputs": [],
   "source": [
    "individual_firm_costs = individual_firm_costs.with_column(\"Average Total Cost\", average_total_cost)"
   ]
  },
  {
   "cell_type": "code",
   "execution_count": 11,
   "metadata": {},
   "outputs": [],
   "source": [
    "marginal_cost = np.diff(total_cost)\n",
    "marginal_cost = np.append(ds.make_array(0), marginal_cost)"
   ]
  },
  {
   "cell_type": "code",
   "execution_count": 12,
   "metadata": {},
   "outputs": [],
   "source": [
    "individual_firm_costs = individual_firm_costs.with_column(\"Marginal Cost\", marginal_cost)"
   ]
  },
  {
   "cell_type": "markdown",
   "metadata": {},
   "source": [
    "## Lab 2 Widget 1"
   ]
  },
  {
   "cell_type": "raw",
   "metadata": {},
   "source": [
    "<div id=\"lab02-wgt01\">"
   ]
  },
  {
   "cell_type": "code",
   "execution_count": 13,
   "metadata": {
    "tags": [
     "interactive"
    ]
   },
   "outputs": [
    {
     "data": {
      "application/vnd.jupyter.widget-view+json": {
       "model_id": "ec0fe8e3095141b8b9a22f438b1c4fb6",
       "version_major": 2,
       "version_minor": 0
      },
      "text/plain": [
       "interactive(children=(IntSlider(value=25, description='price', max=60, min=20), Output()), _dom_classes=('widg…"
      ]
     },
     "metadata": {},
     "output_type": "display_data"
    }
   ],
   "source": [
    "interact(lambda price: utils.firm_behaviour(price, individual_firm_costs), price=widgets.IntSlider(min=20,max=60,step=1,value=25));"
   ]
  },
  {
   "cell_type": "raw",
   "metadata": {},
   "source": [
    "</div>"
   ]
  },
  {
   "cell_type": "code",
   "execution_count": 14,
   "metadata": {
    "tags": [
     "hide_input"
    ]
   },
   "outputs": [],
   "source": [
    "# NO CODE\n",
    "ESG_table = ds.Table.read_table('ESGPorfolios_forcsv.csv').select(\n",
    "    \"Group\", \"Group_num\", \"UNIT NAME\", \"Capacity_MW\", \"Total_Var_Cost_USDperMWH\").sort(\n",
    "    \"Total_Var_Cost_USDperMWH\", descending = False).relabel(4, \"Average Variable Cost\")"
   ]
  },
  {
   "cell_type": "code",
   "execution_count": 15,
   "metadata": {},
   "outputs": [],
   "source": [
    "selection = 'Big Coal'\n",
    "Group = ESG_table.where(\"Group\", selection)"
   ]
  },
  {
   "cell_type": "markdown",
   "metadata": {},
   "source": [
    "## Lab 2 Widget 2"
   ]
  },
  {
   "cell_type": "raw",
   "metadata": {},
   "source": [
    "<div id=\"lab02-wgt02\">"
   ]
  },
  {
   "cell_type": "code",
   "execution_count": 17,
   "metadata": {
    "tags": [
     "interactive"
    ]
   },
   "outputs": [
    {
     "data": {
      "application/vnd.jupyter.widget-view+json": {
       "model_id": "b25222c063ad48d08d0ebc5d9518fb56",
       "version_major": 2,
       "version_minor": 0
      },
      "text/plain": [
       "interactive(children=(IntSlider(value=37, description='price', max=80, min=20), Output()), _dom_classes=('widg…"
      ]
     },
     "metadata": {},
     "output_type": "display_data"
    }
   ],
   "source": [
    "interact(utils.group_plot, price=widgets.IntSlider(min=20,max=80,step=1,value=37));"
   ]
  },
  {
   "cell_type": "raw",
   "metadata": {},
   "source": [
    "</div>"
   ]
  },
  {
   "cell_type": "markdown",
   "metadata": {},
   "source": [
    "## Lab 2 Widget 3"
   ]
  },
  {
   "cell_type": "raw",
   "metadata": {},
   "source": [
    "<div id=\"lab02-wgt03\">"
   ]
  },
  {
   "cell_type": "code",
   "execution_count": 18,
   "metadata": {
    "tags": [
     "interactive"
    ]
   },
   "outputs": [
    {
     "data": {
      "application/vnd.jupyter.widget-view+json": {
       "model_id": "24b28e57837d46ab97f484f9f910aeff",
       "version_major": 2,
       "version_minor": 0
      },
      "text/plain": [
       "interactive(children=(IntSlider(value=37, description='price', max=90), Output()), _dom_classes=('widget-inter…"
      ]
     },
     "metadata": {},
     "output_type": "display_data"
    }
   ],
   "source": [
    "interact(utils.ESG_plot, price=widgets.IntSlider(min=0,max=90,step=1,value=37));"
   ]
  },
  {
   "cell_type": "raw",
   "metadata": {},
   "source": [
    "</div>"
   ]
  },
  {
   "cell_type": "markdown",
   "metadata": {},
   "source": [
    "In this week's homework, one of the exercises you will work on is to compare Delta vs non-Delta flights' demand. Until then, let's suppose that Delta's innovations did influence the demand of Delta tickets. How would the demand curve shift? \n"
   ]
  },
  {
   "cell_type": "code",
   "execution_count": 42,
   "metadata": {
    "scrolled": true
   },
   "outputs": [
    {
     "data": {
      "application/vnd.jupyter.widget-view+json": {
       "model_id": "5d33af6a7d4844da9dc8522d15ccea3d",
       "version_major": 2,
       "version_minor": 0
      },
      "text/plain": [
       "interactive(children=(IntSlider(value=-6, description='shift', max=40, min=-50, step=2), Output()), _dom_class…"
      ]
     },
     "metadata": {},
     "output_type": "display_data"
    }
   ],
   "source": [
    "def shift_demand():\n",
    "    equation = deltademand\n",
    "    def shift_helper(shift):\n",
    "        plot_equation(equation, 0, 10000, \"Original\")\n",
    "        plot_equation(deltasupply, 0, 10000)\n",
    "        old = plot_intercept(equation, deltasupply)\n",
    "        print('Original Intercept:', old)\n",
    "        \n",
    "        if shift != 0:\n",
    "            plot_equation(equation + shift, -10, 10000, 'Shifted')\n",
    "            new = plot_intercept(equation + shift, supply)\n",
    "            print('New intercept:', new)\n",
    "            print('Change in Price:', round(float(new[1]-old[1]), 2))\n",
    "        else:\n",
    "            print('Nothing shifted yet, use the slider to move the line!')\n",
    "        plt.xlim(0,5000)\n",
    "        plt.ylim(0,200)\n",
    "        plt.legend()\n",
    "        plt.ylabel(\"Price\")\n",
    "        plt.xlabel(\"Quantity\")\n",
    "        plt.title(\"Shift in Customer Preference Impact on Delta Ticket Sales\")\n",
    "    interact(shift_helper, shift=(-50, 40, 2))\n",
    "\n",
    "shift_demand()"
   ]
  },
  {
   "cell_type": "markdown",
   "metadata": {},
   "source": [
    "## Lab 3 Widget 1"
   ]
  },
  {
   "cell_type": "code",
   "execution_count": 1,
   "metadata": {
    "tags": [
     "remove_cell"
    ]
   },
   "outputs": [],
   "source": [
    "from datascience import *\n",
    "\n",
    "import sympy\n",
    "solve = lambda x,y: sympy.solve(x-y)[0] if len(sympy.solve(x-y))==1 else \"Not Single Solution\"\n",
    "import matplotlib.pyplot as plt\n",
    "plt.style.use('seaborn-muted')\n",
    "%matplotlib inline\n",
    "\n",
    "from ipywidgets import interact, interactive, fixed, interact_manual\n",
    "import ipywidgets as widgets\n",
    "from IPython.display import display\n",
    "import numpy as np\n",
    "import pandas as pd\n",
    "\n",
    "import warnings\n",
    "warnings.filterwarnings('ignore')\n",
    "from ipywidgets import interact\n"
   ]
  },
  {
   "cell_type": "code",
   "execution_count": 3,
   "metadata": {},
   "outputs": [
    {
     "data": {
      "text/html": [
       "<table border=\"1\" class=\"dataframe\">\n",
       "    <thead>\n",
       "        <tr>\n",
       "            <th>City 1</th> <th>City 2</th> <th>Average Fare</th> <th>Distance</th> <th>Average Weekly Passengers</th> <th>Market Leading Airline</th> <th>Market Share</th> <th>Average Fare.1</th> <th>Low Price Airline</th> <th>Market Share.1</th> <th>Price</th>\n",
       "        </tr>\n",
       "    </thead>\n",
       "    <tbody>\n",
       "        <tr>\n",
       "            <td>CAK   </td> <td>ATL    </td> <td>114.47      </td> <td>528     </td> <td>424.56                   </td> <td>FL                    </td> <td>70.19       </td> <td>111.03        </td> <td>FL               </td> <td>70.19         </td> <td>111.03</td>\n",
       "        </tr>\n",
       "        <tr>\n",
       "            <td>CAK   </td> <td>MCO    </td> <td>122.47      </td> <td>860     </td> <td>276.84                   </td> <td>FL                    </td> <td>75.1        </td> <td>123.09        </td> <td>DL               </td> <td>17.23         </td> <td>118.94</td>\n",
       "        </tr>\n",
       "        <tr>\n",
       "            <td>ALB   </td> <td>ATL    </td> <td>214.42      </td> <td>852     </td> <td>215.76                   </td> <td>DL                    </td> <td>78.89       </td> <td>223.98        </td> <td>CO               </td> <td>2.77          </td> <td>167.12</td>\n",
       "        </tr>\n",
       "        <tr>\n",
       "            <td>ALB   </td> <td>BWI    </td> <td>69.4        </td> <td>288     </td> <td>606.84                   </td> <td>WN                    </td> <td>96.97       </td> <td>68.86         </td> <td>WN               </td> <td>96.97         </td> <td>68.86 </td>\n",
       "        </tr>\n",
       "        <tr>\n",
       "            <td>ALB   </td> <td>ORD    </td> <td>158.13      </td> <td>723     </td> <td>313.04                   </td> <td>UA                    </td> <td>39.79       </td> <td>161.36        </td> <td>WN               </td> <td>15.34         </td> <td>145.42</td>\n",
       "        </tr>\n",
       "        <tr>\n",
       "            <td>ALB   </td> <td>FLL    </td> <td>135.17      </td> <td>1204    </td> <td>199.02                   </td> <td>WN                    </td> <td>40.68       </td> <td>137.97        </td> <td>DL               </td> <td>17.09         </td> <td>127.69</td>\n",
       "        </tr>\n",
       "        <tr>\n",
       "            <td>ALB   </td> <td>LAS    </td> <td>152.85      </td> <td>2237    </td> <td>237.17                   </td> <td>WN                    </td> <td>59.94       </td> <td>148.59        </td> <td>WN               </td> <td>59.94         </td> <td>148.59</td>\n",
       "        </tr>\n",
       "        <tr>\n",
       "            <td>ALB   </td> <td>LAX    </td> <td>190.73      </td> <td>2467    </td> <td>191.95                   </td> <td>DL                    </td> <td>17.89       </td> <td>205.06        </td> <td>US               </td> <td>16.59         </td> <td>174   </td>\n",
       "        </tr>\n",
       "        <tr>\n",
       "            <td>ALB   </td> <td>MCO    </td> <td>129.35      </td> <td>1073    </td> <td>550.54                   </td> <td>WN                    </td> <td>76.84       </td> <td>127.69        </td> <td>WN               </td> <td>76.84         </td> <td>127.69</td>\n",
       "        </tr>\n",
       "        <tr>\n",
       "            <td>ALB   </td> <td>TPA    </td> <td>134.17      </td> <td>1130    </td> <td>202.93                   </td> <td>US                    </td> <td>35.4        </td> <td>132.91        </td> <td>DL               </td> <td>26.4          </td> <td>124.78</td>\n",
       "        </tr>\n",
       "    </tbody>\n",
       "</table>\n",
       "<p>... (990 rows omitted)</p>"
      ],
      "text/plain": [
       "City 1 | City 2  | Average Fare | Distance | Average Weekly Passengers | Market Leading Airline | Market Share | Average Fare.1 | Low Price Airline | Market Share.1 | Price\n",
       "CAK    | ATL     | 114.47       | 528      | 424.56                    | FL                     | 70.19        | 111.03         | FL                | 70.19          | 111.03\n",
       "CAK    | MCO     | 122.47       | 860      | 276.84                    | FL                     | 75.1         | 123.09         | DL                | 17.23          | 118.94\n",
       "ALB    | ATL     | 214.42       | 852      | 215.76                    | DL                     | 78.89        | 223.98         | CO                | 2.77           | 167.12\n",
       "ALB    | BWI     | 69.4         | 288      | 606.84                    | WN                     | 96.97        | 68.86          | WN                | 96.97          | 68.86\n",
       "ALB    | ORD     | 158.13       | 723      | 313.04                    | UA                     | 39.79        | 161.36         | WN                | 15.34          | 145.42\n",
       "ALB    | FLL     | 135.17       | 1204     | 199.02                    | WN                     | 40.68        | 137.97         | DL                | 17.09          | 127.69\n",
       "ALB    | LAS     | 152.85       | 2237     | 237.17                    | WN                     | 59.94        | 148.59         | WN                | 59.94          | 148.59\n",
       "ALB    | LAX     | 190.73       | 2467     | 191.95                    | DL                     | 17.89        | 205.06         | US                | 16.59          | 174\n",
       "ALB    | MCO     | 129.35       | 1073     | 550.54                    | WN                     | 76.84        | 127.69         | WN                | 76.84          | 127.69\n",
       "ALB    | TPA     | 134.17       | 1130     | 202.93                    | US                     | 35.4         | 132.91         | DL                | 26.4           | 124.78\n",
       "... (990 rows omitted)"
      ]
     },
     "execution_count": 3,
     "metadata": {},
     "output_type": "execute_result"
    }
   ],
   "source": [
    "airlines = Table.read_table('airlines.csv')\n",
    "airlines"
   ]
  },
  {
   "cell_type": "code",
   "execution_count": 4,
   "metadata": {},
   "outputs": [],
   "source": [
    "airlines = airlines.drop(\"Price\")\n",
    "airlinesFiltered = airlines.relabeled([\"Average Fare\", \"Average Weekly Passengers\"], [\"Price\", \"Quantity\"])"
   ]
  },
  {
   "cell_type": "markdown",
   "metadata": {},
   "source": [
    "The following cell of code is provided."
   ]
  },
  {
   "cell_type": "code",
   "execution_count": 5,
   "metadata": {},
   "outputs": [],
   "source": [
    "delta = airlines.where(\"Market Leading Airline\", \"DL\")\n",
    "delta = delta.select([\"Average Fare\", \"Average Weekly Passengers\"])\n",
    "delta = delta.relabeled([\"Average Weekly Passengers\", \"Average Fare\"], [\"Quantity\", \"Price\"])\n",
    "delta = delta.where(delta.column(\"Quantity\") < 2000)"
   ]
  },
  {
   "cell_type": "code",
   "execution_count": 10,
   "metadata": {},
   "outputs": [],
   "source": [
    "Q = sympy.Symbol(\"Q\")"
   ]
  },
  {
   "cell_type": "code",
   "execution_count": 11,
   "metadata": {},
   "outputs": [],
   "source": [
    "deltademand = -0.035 * Q + 189.1"
   ]
  },
  {
   "cell_type": "code",
   "execution_count": 12,
   "metadata": {},
   "outputs": [],
   "source": [
    "deltasupply = 0.03 * Q + 14"
   ]
  },
  {
   "cell_type": "code",
   "execution_count": 13,
   "metadata": {},
   "outputs": [],
   "source": [
    "Q_star_delta = solve(deltademand, deltasupply)"
   ]
  },
  {
   "cell_type": "code",
   "execution_count": 16,
   "metadata": {},
   "outputs": [],
   "source": [
    "supply = 0.0225 * Q + 100"
   ]
  },
  {
   "cell_type": "raw",
   "metadata": {},
   "source": [
    "<div id=\"lab03-wgt01\">"
   ]
  },
  {
   "cell_type": "code",
   "execution_count": 17,
   "metadata": {},
   "outputs": [
    {
     "data": {
      "application/vnd.jupyter.widget-view+json": {
       "model_id": "3954586681c84c8b90c38aca8d1f581d",
       "version_major": 2,
       "version_minor": 0
      },
      "text/plain": [
       "interactive(children=(IntSlider(value=-6, description='shift', max=40, min=-50, step=2), Output()), _dom_class…"
      ]
     },
     "metadata": {},
     "output_type": "display_data"
    }
   ],
   "source": [
    "def plot_equation(equation, price_start, price_end, label=None):\n",
    "    plot_prices = [price_start, price_end]\n",
    "    plot_quantities = [equation.subs(list(equation.free_symbols)[0], c) for c in plot_prices]\n",
    "    plt.plot(plot_prices, plot_quantities, label=label)\n",
    "    \n",
    "def plot_intercept(eq1, eq2):\n",
    "    ex = sympy.solve(eq1-eq2)[0]\n",
    "    why = eq1.subs(list(eq1.free_symbols)[0], ex)\n",
    "    plt.scatter([ex], [why])\n",
    "    return (ex, why)\n",
    "    \n",
    "def shift_demand():\n",
    "    equation = deltademand\n",
    "    def shift_helper(shift):\n",
    "        plot_equation(equation, 0, 10000, \"Original\")\n",
    "        plot_equation(deltasupply, 0, 10000)\n",
    "        old = plot_intercept(equation, deltasupply)\n",
    "        print('Original Intercept:', old)\n",
    "        \n",
    "        if shift != 0:\n",
    "            plot_equation(equation + shift, -10, 10000, 'Shifted')\n",
    "            new = plot_intercept(equation + shift, supply)\n",
    "            print('New intercept:', new)\n",
    "            print('Change in Price:', round(float(new[1]-old[1]), 2))\n",
    "        else:\n",
    "            print('Nothing shifted yet, use the slider to move the line!')\n",
    "        plt.xlim(0,5000)\n",
    "        plt.ylim(0,200)\n",
    "        plt.legend()\n",
    "        plt.ylabel(\"Price\")\n",
    "        plt.xlabel(\"Quantity\")\n",
    "        plt.title(\"Shift in Customer Preference Impact on Delta Ticket Sales\")\n",
    "    interact(shift_helper, shift=(-50, 40, 2))\n",
    "\n",
    "shift_demand()"
   ]
  },
  {
   "cell_type": "raw",
   "metadata": {},
   "source": [
    "</div>"
   ]
  },
  {
   "cell_type": "markdown",
   "metadata": {},
   "source": [
    " "
   ]
  }
 ],
 "metadata": {
  "@webio": {
   "lastCommId": null,
   "lastKernelId": null
  },
  "kernelspec": {
   "display_name": "Python 3",
   "language": "python",
   "name": "python3"
  },
  "language_info": {
   "codemirror_mode": {
    "name": "ipython",
    "version": 3
   },
   "file_extension": ".py",
   "mimetype": "text/x-python",
   "name": "python",
   "nbconvert_exporter": "python",
   "pygments_lexer": "ipython3",
   "version": "3.6.5"
  },
  "varInspector": {
   "cols": {
    "lenName": 16,
    "lenType": 16,
    "lenVar": 40
   },
   "kernels_config": {
    "python": {
     "delete_cmd_postfix": "",
     "delete_cmd_prefix": "del ",
     "library": "var_list.py",
     "varRefreshCmd": "print(var_dic_list())"
    },
    "r": {
     "delete_cmd_postfix": ") ",
     "delete_cmd_prefix": "rm(",
     "library": "var_list.r",
     "varRefreshCmd": "cat(var_dic_list()) "
    }
   },
   "types_to_exclude": [
    "module",
    "function",
    "builtin_function_or_method",
    "instance",
    "_Feature"
   ],
   "window_display": false
  }
 },
 "nbformat": 4,
 "nbformat_minor": 2
}
