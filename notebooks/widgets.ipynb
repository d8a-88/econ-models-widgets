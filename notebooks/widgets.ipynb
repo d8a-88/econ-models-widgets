{
 "cells": [
  {
   "cell_type": "markdown",
   "metadata": {},
   "source": [
    "# Lab 2 Widgets"
   ]
  },
  {
   "cell_type": "code",
   "execution_count": null,
   "metadata": {
    "tags": [
     "hide_input"
    ]
   },
   "outputs": [],
   "source": [
    "# NO CODE\n",
    "from datascience import Table, make_array\n",
    "import matplotlib.pyplot as plt\n",
    "%matplotlib inline\n",
    "import numpy as np\n",
    "import pandas as pd\n",
    "from utils import *\n",
    "plt.style.use('seaborn-muted')\n",
    "from __future__ import print_function\n",
    "from ipywidgets import interact, interactive, fixed, interact_manual\n",
    "import ipywidgets as widgets\n",
    "from matplotlib import patches\n",
    "import csaps"
   ]
  },
  {
   "cell_type": "code",
   "execution_count": null,
   "metadata": {},
   "outputs": [],
   "source": [
    "individual_firm_costs = Table.read_table('individual_firm_costs.csv')"
   ]
  },
  {
   "cell_type": "code",
   "execution_count": null,
   "metadata": {},
   "outputs": [],
   "source": [
    "total_cost = individual_firm_costs.column(\"Total Fixed Cost\") + individual_firm_costs.column(\"Total Variable Cost\")"
   ]
  },
  {
   "cell_type": "code",
   "execution_count": null,
   "metadata": {},
   "outputs": [],
   "source": [
    "# adding the array to the table\n",
    "individual_firm_costs = individual_firm_costs.with_column(\"Total Cost\", total_cost)"
   ]
  },
  {
   "cell_type": "code",
   "execution_count": null,
   "metadata": {},
   "outputs": [],
   "source": [
    "individual_firm_costs_no_first = individual_firm_costs.take(np.arange(1, individual_firm_costs.num_rows))\n",
    "average_fixed_cost = individual_firm_costs_no_first.column(\"Total Fixed Cost\") / individual_firm_costs_no_first.column(\"Output\")\n",
    "average_fixed_cost = np.append(make_array(0), average_fixed_cost)"
   ]
  },
  {
   "cell_type": "code",
   "execution_count": null,
   "metadata": {},
   "outputs": [],
   "source": [
    "individual_firm_costs = individual_firm_costs.with_column(\"Average Fixed Cost\", average_fixed_cost)"
   ]
  },
  {
   "cell_type": "code",
   "execution_count": null,
   "metadata": {},
   "outputs": [],
   "source": [
    "average_variable_cost = individual_firm_costs_no_first.column(\"Total Variable Cost\")/individual_firm_costs_no_first.column(\"Output\")\n",
    "average_variable_cost = np.append(make_array(0), average_variable_cost)"
   ]
  },
  {
   "cell_type": "code",
   "execution_count": null,
   "metadata": {},
   "outputs": [],
   "source": [
    "individual_firm_costs = individual_firm_costs.with_column(\"Average Variable Cost\", average_variable_cost)"
   ]
  },
  {
   "cell_type": "code",
   "execution_count": null,
   "metadata": {},
   "outputs": [],
   "source": [
    "average_total_cost = individual_firm_costs_no_first.column(\"Total Cost\")/individual_firm_costs_no_first.column(\"Output\")\n",
    "average_total_cost = np.append(make_array(0), average_total_cost)"
   ]
  },
  {
   "cell_type": "code",
   "execution_count": null,
   "metadata": {},
   "outputs": [],
   "source": [
    "individual_firm_costs = individual_firm_costs.with_column(\"Average Total Cost\", average_total_cost)"
   ]
  },
  {
   "cell_type": "code",
   "execution_count": null,
   "metadata": {},
   "outputs": [],
   "source": [
    "marginal_cost = np.diff(total_cost)\n",
    "marginal_cost = np.append(make_array(0), marginal_cost)"
   ]
  },
  {
   "cell_type": "code",
   "execution_count": null,
   "metadata": {},
   "outputs": [],
   "source": [
    "individual_firm_costs = individual_firm_costs.with_column(\"Marginal Cost\", marginal_cost)"
   ]
  },
  {
   "cell_type": "markdown",
   "metadata": {},
   "source": [
    "## Lab 2 Widget 1"
   ]
  },
  {
   "cell_type": "raw",
   "metadata": {},
   "source": [
    "<div id=\"lab02-wgt01\">"
   ]
  },
  {
   "cell_type": "code",
   "execution_count": null,
   "metadata": {
    "tags": [
     "interactive"
    ]
   },
   "outputs": [],
   "source": [
    "interact(lambda price: firm_behaviour(price, individual_firm_costs), price=widgets.IntSlider(min=20,max=60,step=1,value=25));"
   ]
  },
  {
   "cell_type": "raw",
   "metadata": {},
   "source": [
    "</div>"
   ]
  },
  {
   "cell_type": "code",
   "execution_count": null,
   "metadata": {
    "tags": [
     "hide_input"
    ]
   },
   "outputs": [],
   "source": [
    "# NO CODE\n",
    "ESG_table = Table.read_table('ESGPorfolios_forcsv.csv').select(\n",
    "    \"Group\", \"Group_num\", \"UNIT NAME\", \"Capacity_MW\", \"Total_Var_Cost_USDperMWH\").sort(\n",
    "    \"Total_Var_Cost_USDperMWH\", descending = False).relabel(4, \"Average Variable Cost\")"
   ]
  },
  {
   "cell_type": "code",
   "execution_count": null,
   "metadata": {},
   "outputs": [],
   "source": [
    "selection = 'Big Coal'\n",
    "Group = ESG_table.where(\"Group\", selection)"
   ]
  },
  {
   "cell_type": "markdown",
   "metadata": {},
   "source": [
    "## Lab 2 Widget 2"
   ]
  },
  {
   "cell_type": "raw",
   "metadata": {},
   "source": [
    "<div id=\"lab02-wgt02\">"
   ]
  },
  {
   "cell_type": "code",
   "execution_count": null,
   "metadata": {
    "tags": [
     "interactive"
    ]
   },
   "outputs": [],
   "source": [
    "interact(group_plot, price=widgets.IntSlider(min=20,max=80,step=1,value=37));"
   ]
  },
  {
   "cell_type": "raw",
   "metadata": {},
   "source": [
    "</div>"
   ]
  },
  {
   "cell_type": "markdown",
   "metadata": {},
   "source": [
    "## Lab 2 Widget 3"
   ]
  },
  {
   "cell_type": "raw",
   "metadata": {},
   "source": [
    "<div id=\"lab02-wgt03\">"
   ]
  },
  {
   "cell_type": "code",
   "execution_count": null,
   "metadata": {
    "tags": [
     "interactive"
    ]
   },
   "outputs": [],
   "source": [
    "interact(ESG_plot, price=widgets.IntSlider(min=0,max=90,step=1,value=37));"
   ]
  },
  {
   "cell_type": "raw",
   "metadata": {},
   "source": [
    "</div>"
   ]
  },
  {
   "cell_type": "markdown",
   "metadata": {},
   "source": [
    " "
   ]
  }
 ],
 "metadata": {
  "kernelspec": {
   "display_name": "Python 3",
   "language": "python",
   "name": "python3"
  },
  "language_info": {
   "codemirror_mode": {
    "name": "ipython",
    "version": 3
   },
   "file_extension": ".py",
   "mimetype": "text/x-python",
   "name": "python",
   "nbconvert_exporter": "python",
   "pygments_lexer": "ipython3",
   "version": "3.6.5"
  },
  "varInspector": {
   "cols": {
    "lenName": 16,
    "lenType": 16,
    "lenVar": 40
   },
   "kernels_config": {
    "python": {
     "delete_cmd_postfix": "",
     "delete_cmd_prefix": "del ",
     "library": "var_list.py",
     "varRefreshCmd": "print(var_dic_list())"
    },
    "r": {
     "delete_cmd_postfix": ") ",
     "delete_cmd_prefix": "rm(",
     "library": "var_list.r",
     "varRefreshCmd": "cat(var_dic_list()) "
    }
   },
   "types_to_exclude": [
    "module",
    "function",
    "builtin_function_or_method",
    "instance",
    "_Feature"
   ],
   "window_display": false
  }
 },
 "nbformat": 4,
 "nbformat_minor": 2
}
